{
 "cells": [
  {
   "cell_type": "code",
   "execution_count": null,
   "id": "48c4a9cd-3dde-4273-8db4-11c0c9e210f4",
   "metadata": {},
   "outputs": [],
   "source": [
    "def largest(arr):\n",
    "    a=arr[0]\n",
    "    for i in arr:\n",
    "        if i>a:\n",
    "            a=i\n",
    "        return a \n",
    "arr=[32,45,78,65,41,12,84,93,55]\n",
    "largest=largest(arr)\n",
    "print(\"The Largest Element is:\",largest)"
   ]
  }
 ],
 "metadata": {
  "kernelspec": {
   "display_name": "Python 3 (ipykernel)",
   "language": "python",
   "name": "python3"
  },
  "language_info": {
   "codemirror_mode": {
    "name": "ipython",
    "version": 3
   },
   "file_extension": ".py",
   "mimetype": "text/x-python",
   "name": "python",
   "nbconvert_exporter": "python",
   "pygments_lexer": "ipython3",
   "version": "3.12.4"
  }
 },
 "nbformat": 4,
 "nbformat_minor": 5
}

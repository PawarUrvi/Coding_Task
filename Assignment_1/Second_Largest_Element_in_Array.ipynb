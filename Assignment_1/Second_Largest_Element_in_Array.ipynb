{
 "cells": [
  {
   "cell_type": "code",
   "execution_count": null,
   "id": "62a62ffb-2d33-4ac5-9899-657bf3e7a370",
   "metadata": {},
   "outputs": [],
   "source": [
    "def second_largest(arr):\n",
    "    a=arr[0]\n",
    "    for i in arr:\n",
    "        for j in arr:\n",
    "            if j<i:\n",
    "                if j>a:\n",
    "                    a=j\n",
    "    return a\n",
    "\n",
    "arr=[15,35,89,35,76,23,76,58,53,67,53]\n",
    "Second_largest=second_largest(arr)\n",
    "print(\"The Second Largest Element is:\",Second_largest)   "
   ]
  }
 ],
 "metadata": {
  "kernelspec": {
   "display_name": "Python 3 (ipykernel)",
   "language": "python",
   "name": "python3"
  },
  "language_info": {
   "codemirror_mode": {
    "name": "ipython",
    "version": 3
   },
   "file_extension": ".py",
   "mimetype": "text/x-python",
   "name": "python",
   "nbconvert_exporter": "python",
   "pygments_lexer": "ipython3",
   "version": "3.12.4"
  }
 },
 "nbformat": 4,
 "nbformat_minor": 5
}

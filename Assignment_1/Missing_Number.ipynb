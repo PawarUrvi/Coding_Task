{
 "cells": [
  {
   "cell_type": "code",
   "execution_count": null,
   "id": "559d1f12-61ed-4820-a87d-72851238a57e",
   "metadata": {},
   "outputs": [],
   "source": [
    "arr=[0,1,2,3,4,5,6,7,9]\n",
    "\n",
    "def missing(arr):\n",
    "    a=len(arr)\n",
    "    \n",
    "    total=a*(a+1)//2\n",
    "    atcual=sum(arr)\n",
    "\n",
    "    missing_num=total-atcual\n",
    "\n",
    "    return missing_num\n",
    "\n",
    "A=missing(arr)\n",
    "print(\"The missing number in the Given Array is:\",A,arr)"
   ]
  }
 ],
 "metadata": {
  "kernelspec": {
   "display_name": "Python 3 (ipykernel)",
   "language": "python",
   "name": "python3"
  },
  "language_info": {
   "codemirror_mode": {
    "name": "ipython",
    "version": 3
   },
   "file_extension": ".py",
   "mimetype": "text/x-python",
   "name": "python",
   "nbconvert_exporter": "python",
   "pygments_lexer": "ipython3",
   "version": "3.12.4"
  }
 },
 "nbformat": 4,
 "nbformat_minor": 5
}

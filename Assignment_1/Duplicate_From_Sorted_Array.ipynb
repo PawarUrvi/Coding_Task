{
 "cells": [
  {
   "cell_type": "code",
   "execution_count": null,
   "id": "60f6f756-8ac8-41ca-b57d-448de8437223",
   "metadata": {},
   "outputs": [],
   "source": [
    "def remove_duplicates(sorted_array):\n",
    "    if not sorted_array:\n",
    "        return []\n",
    "\n",
    "    final_array = [sorted_array[0]]\n",
    "\n",
    "    for i in range(1, len(sorted_array)):\n",
    "        if sorted_array[i] != sorted_array[i - 1]:\n",
    "            final_array.append(sorted_array[i])\n",
    "\n",
    "    return final_array\n",
    "\n",
    "sorted_array = [3,3,2,4,4,6,6,8]\n",
    "final_array = remove_duplicates(sorted_array)\n",
    "print(\"Array after removing duplicates:\", final_array)"
   ]
  }
 ],
 "metadata": {
  "kernelspec": {
   "display_name": "Python 3 (ipykernel)",
   "language": "python",
   "name": "python3"
  },
  "language_info": {
   "codemirror_mode": {
    "name": "ipython",
    "version": 3
   },
   "file_extension": ".py",
   "mimetype": "text/x-python",
   "name": "python",
   "nbconvert_exporter": "python",
   "pygments_lexer": "ipython3",
   "version": "3.12.4"
  }
 },
 "nbformat": 4,
 "nbformat_minor": 5
}

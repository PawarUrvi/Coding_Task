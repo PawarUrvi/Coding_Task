{
 "cells": [
  {
   "cell_type": "code",
   "execution_count": null,
   "id": "23392a9e-afa2-447e-aa0b-4560f6c9aae1",
   "metadata": {},
   "outputs": [],
   "source": [
    "arr=[1,3,5,4,2]\n",
    "def sort(arr):\n",
    "    a=len(arr)\n",
    "    for i in range(a):\n",
    "        for j in range(0,a-i-1):\n",
    "            if arr[j] > arr[j+1]:\n",
    "                temp=arr[j]\n",
    "                arr[j]=arr[j+1]\n",
    "                arr[j+1]=temp\n",
    "    return(arr)\n",
    "\n",
    "\n",
    "def rotate(n,arr):\n",
    "    n=n%len(arr)\n",
    "    return arr[-n:]+arr[:-n]\n",
    "\n",
    "n=2\n",
    "a=sort(arr)\n",
    "b=rotate(n,arr)\n",
    "print(\"Sorted Array:\",a)\n",
    "print(\"Rotated Array\",b)"
   ]
  }
 ],
 "metadata": {
  "kernelspec": {
   "display_name": "Python 3 (ipykernel)",
   "language": "python",
   "name": "python3"
  },
  "language_info": {
   "codemirror_mode": {
    "name": "ipython",
    "version": 3
   },
   "file_extension": ".py",
   "mimetype": "text/x-python",
   "name": "python",
   "nbconvert_exporter": "python",
   "pygments_lexer": "ipython3",
   "version": "3.12.4"
  }
 },
 "nbformat": 4,
 "nbformat_minor": 5
}
